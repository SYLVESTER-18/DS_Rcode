{
  "nbformat": 4,
  "nbformat_minor": 0,
  "metadata": {
    "colab": {
      "name": "SLR_ASSIGN.ipynb",
      "provenance": [],
      "collapsed_sections": [],
      "toc_visible": true,
      "authorship_tag": "ABX9TyMKFl/oFpRNN6smbuqqtImR",
      "include_colab_link": true
    },
    "kernelspec": {
      "name": "python3",
      "display_name": "Python 3"
    },
    "language_info": {
      "name": "python"
    }
  },
  "cells": [
    {
      "cell_type": "markdown",
      "metadata": {
        "id": "view-in-github",
        "colab_type": "text"
      },
      "source": [
        "<a href=\"https://colab.research.google.com/github/SYLVESTER-18/DS_Rcode/blob/main/SLR_ASSIGN.ipynb\" target=\"_parent\"><img src=\"https://colab.research.google.com/assets/colab-badge.svg\" alt=\"Open In Colab\"/></a>"
      ]
    },
    {
      "cell_type": "code",
      "metadata": {
        "id": "7_Bggpdvo8g4"
      },
      "source": [
        "import pandas as pd\n",
        "import numpy as np \n",
        "from statsmodels.api import  OLS\n",
        "from sklearn.model_selection import train_test_split\n",
        "from sklearn.metrics import confusion_matrix\n",
        "import statsmodels.formula.api as smf\n",
        "import seaborn as sns"
      ],
      "execution_count": 10,
      "outputs": []
    },
    {
      "cell_type": "code",
      "metadata": {
        "id": "LLKtmZD8qZdQ"
      },
      "source": [
        "df=pd.read_csv(\"/content/Salary_Data (1).csv\")\n",
        "df"
      ],
      "execution_count": null,
      "outputs": []
    },
    {
      "cell_type": "code",
      "metadata": {
        "colab": {
          "base_uri": "https://localhost:8080/",
          "height": 106
        },
        "id": "zl2tLewujB62",
        "outputId": "ef557eac-4877-4231-86b2-7aa1e794382a"
      },
      "source": [
        "df.corr()"
      ],
      "execution_count": 6,
      "outputs": [
        {
          "output_type": "execute_result",
          "data": {
            "text/html": [
              "<div>\n",
              "<style scoped>\n",
              "    .dataframe tbody tr th:only-of-type {\n",
              "        vertical-align: middle;\n",
              "    }\n",
              "\n",
              "    .dataframe tbody tr th {\n",
              "        vertical-align: top;\n",
              "    }\n",
              "\n",
              "    .dataframe thead th {\n",
              "        text-align: right;\n",
              "    }\n",
              "</style>\n",
              "<table border=\"1\" class=\"dataframe\">\n",
              "  <thead>\n",
              "    <tr style=\"text-align: right;\">\n",
              "      <th></th>\n",
              "      <th>YearsExperience</th>\n",
              "      <th>Salary</th>\n",
              "    </tr>\n",
              "  </thead>\n",
              "  <tbody>\n",
              "    <tr>\n",
              "      <th>YearsExperience</th>\n",
              "      <td>1.000000</td>\n",
              "      <td>0.978242</td>\n",
              "    </tr>\n",
              "    <tr>\n",
              "      <th>Salary</th>\n",
              "      <td>0.978242</td>\n",
              "      <td>1.000000</td>\n",
              "    </tr>\n",
              "  </tbody>\n",
              "</table>\n",
              "</div>"
            ],
            "text/plain": [
              "                 YearsExperience    Salary\n",
              "YearsExperience         1.000000  0.978242\n",
              "Salary                  0.978242  1.000000"
            ]
          },
          "metadata": {
            "tags": []
          },
          "execution_count": 6
        }
      ]
    },
    {
      "cell_type": "code",
      "metadata": {
        "colab": {
          "base_uri": "https://localhost:8080/"
        },
        "id": "Kk-a37Ruqm7c",
        "outputId": "237605bd-28a6-433d-a553-3c2117fe0e5a"
      },
      "source": [
        "df.info()"
      ],
      "execution_count": null,
      "outputs": [
        {
          "output_type": "stream",
          "text": [
            "<class 'pandas.core.frame.DataFrame'>\n",
            "RangeIndex: 30 entries, 0 to 29\n",
            "Data columns (total 2 columns):\n",
            " #   Column           Non-Null Count  Dtype  \n",
            "---  ------           --------------  -----  \n",
            " 0   YearsExperience  30 non-null     float64\n",
            " 1   Salary           30 non-null     float64\n",
            "dtypes: float64(2)\n",
            "memory usage: 608.0 bytes\n"
          ],
          "name": "stdout"
        }
      ]
    },
    {
      "cell_type": "code",
      "metadata": {
        "id": "wst-G2QYqrzS"
      },
      "source": [
        "x_train,x_test,y_train,y_test=train_test_split(df['YearsExperience'],df['Salary'],test_size=0.33,random_state=4)"
      ],
      "execution_count": 26,
      "outputs": []
    },
    {
      "cell_type": "code",
      "metadata": {
        "colab": {
          "base_uri": "https://localhost:8080/"
        },
        "id": "urTD_c18tSfS",
        "outputId": "dd7e7ba9-0b81-4cd3-e7e3-c7798cd7fb5f"
      },
      "source": [
        "x_train.shape\n",
        "\n",
        "\n"
      ],
      "execution_count": 27,
      "outputs": [
        {
          "output_type": "execute_result",
          "data": {
            "text/plain": [
              "(20,)"
            ]
          },
          "metadata": {
            "tags": []
          },
          "execution_count": 27
        }
      ]
    },
    {
      "cell_type": "code",
      "metadata": {
        "colab": {
          "base_uri": "https://localhost:8080/"
        },
        "id": "ZOcWj2uHts3a",
        "outputId": "e89b9a4d-8ff6-4751-c587-9904043be299"
      },
      "source": [
        "x_test.shape\n"
      ],
      "execution_count": 28,
      "outputs": [
        {
          "output_type": "execute_result",
          "data": {
            "text/plain": [
              "(10,)"
            ]
          },
          "metadata": {
            "tags": []
          },
          "execution_count": 28
        }
      ]
    },
    {
      "cell_type": "code",
      "metadata": {
        "colab": {
          "base_uri": "https://localhost:8080/"
        },
        "id": "KoIoOxw0uRw8",
        "outputId": "ddfc71e6-cdce-400b-989c-60903ba5d71b"
      },
      "source": [
        "y_test.shape"
      ],
      "execution_count": 29,
      "outputs": [
        {
          "output_type": "execute_result",
          "data": {
            "text/plain": [
              "(10,)"
            ]
          },
          "metadata": {
            "tags": []
          },
          "execution_count": 29
        }
      ]
    },
    {
      "cell_type": "code",
      "metadata": {
        "colab": {
          "base_uri": "https://localhost:8080/"
        },
        "id": "uGBhQVW6uXm5",
        "outputId": "1ee97f1a-1fdb-42cb-d83b-44df6b1c8c3c"
      },
      "source": [
        "y_train.shape"
      ],
      "execution_count": 30,
      "outputs": [
        {
          "output_type": "execute_result",
          "data": {
            "text/plain": [
              "(20,)"
            ]
          },
          "metadata": {
            "tags": []
          },
          "execution_count": 30
        }
      ]
    },
    {
      "cell_type": "code",
      "metadata": {
        "colab": {
          "base_uri": "https://localhost:8080/"
        },
        "id": "FJMMTxO-vFgT",
        "outputId": "2a25e3a8-9141-4efc-b477-00dd8482a991"
      },
      "source": [
        "x_train.head()"
      ],
      "execution_count": 31,
      "outputs": [
        {
          "output_type": "execute_result",
          "data": {
            "text/plain": [
              "3     2.0\n",
              "16    5.1\n",
              "10    3.9\n",
              "6     3.0\n",
              "12    4.0\n",
              "Name: YearsExperience, dtype: float64"
            ]
          },
          "metadata": {
            "tags": []
          },
          "execution_count": 31
        }
      ]
    },
    {
      "cell_type": "code",
      "metadata": {
        "colab": {
          "base_uri": "https://localhost:8080/"
        },
        "id": "fbHrCfjQvPc8",
        "outputId": "48a05055-770b-4b85-e189-ac1154b8c34d"
      },
      "source": [
        "x_test.head()"
      ],
      "execution_count": 32,
      "outputs": [
        {
          "output_type": "execute_result",
          "data": {
            "text/plain": [
              "11     4.0\n",
              "21     7.1\n",
              "28    10.3\n",
              "15     4.9\n",
              "20     6.8\n",
              "Name: YearsExperience, dtype: float64"
            ]
          },
          "metadata": {
            "tags": []
          },
          "execution_count": 32
        }
      ]
    },
    {
      "cell_type": "code",
      "metadata": {
        "id": "08zL0JWWvnIi"
      },
      "source": [
        "model1=OLS(x_train,y_train)\n",
        "result=model1.fit()\n"
      ],
      "execution_count": 33,
      "outputs": []
    },
    {
      "cell_type": "code",
      "metadata": {
        "colab": {
          "base_uri": "https://localhost:8080/"
        },
        "id": "d95wAMK9wzpS",
        "outputId": "9328ac71-dfb5-4461-bf32-2b0167318758"
      },
      "source": [
        "result"
      ],
      "execution_count": 34,
      "outputs": [
        {
          "output_type": "execute_result",
          "data": {
            "text/plain": [
              "<statsmodels.regression.linear_model.RegressionResultsWrapper at 0x7f2aacf43a50>"
            ]
          },
          "metadata": {
            "tags": []
          },
          "execution_count": 34
        }
      ]
    },
    {
      "cell_type": "code",
      "metadata": {
        "colab": {
          "base_uri": "https://localhost:8080/"
        },
        "id": "35k4C4f9w6iK",
        "outputId": "c5eaa39d-2e3c-4a6d-ad92-0b0cbae097bf"
      },
      "source": [
        "print(result.summary())"
      ],
      "execution_count": 35,
      "outputs": [
        {
          "output_type": "stream",
          "text": [
            "                                 OLS Regression Results                                \n",
            "=======================================================================================\n",
            "Dep. Variable:        YearsExperience   R-squared (uncentered):                   0.969\n",
            "Model:                            OLS   Adj. R-squared (uncentered):              0.967\n",
            "Method:                 Least Squares   F-statistic:                              588.6\n",
            "Date:                Thu, 10 Jun 2021   Prob (F-statistic):                    9.26e-16\n",
            "Time:                        11:01:45   Log-Likelihood:                         -27.421\n",
            "No. Observations:                  20   AIC:                                      56.84\n",
            "Df Residuals:                      19   BIC:                                      57.84\n",
            "Df Model:                           1                                                  \n",
            "Covariance Type:            nonrobust                                                  \n",
            "==============================================================================\n",
            "                 coef    std err          t      P>|t|      [0.025      0.975]\n",
            "------------------------------------------------------------------------------\n",
            "Salary      7.121e-05   2.94e-06     24.262      0.000    6.51e-05    7.74e-05\n",
            "==============================================================================\n",
            "Omnibus:                        0.353   Durbin-Watson:                   1.286\n",
            "Prob(Omnibus):                  0.838   Jarque-Bera (JB):                0.505\n",
            "Skew:                           0.157   Prob(JB):                        0.777\n",
            "Kurtosis:                       2.288   Cond. No.                         1.00\n",
            "==============================================================================\n",
            "\n",
            "Warnings:\n",
            "[1] Standard Errors assume that the covariance matrix of the errors is correctly specified.\n"
          ],
          "name": "stdout"
        }
      ]
    },
    {
      "cell_type": "code",
      "metadata": {
        "colab": {
          "base_uri": "https://localhost:8080/"
        },
        "id": "diCqKWhExffk",
        "outputId": "439fc319-409c-4ecb-9967-6709d98571da"
      },
      "source": [
        "predict_1=result.predict(x_train)\n",
        "predict_1"
      ],
      "execution_count": 36,
      "outputs": [
        {
          "output_type": "execute_result",
          "data": {
            "text/plain": [
              "3     0.000142\n",
              "16    0.000363\n",
              "10    0.000278\n",
              "6     0.000214\n",
              "12    0.000285\n",
              "2     0.000107\n",
              "4     0.000157\n",
              "22    0.000563\n",
              "13    0.000292\n",
              "7     0.000228\n",
              "9     0.000263\n",
              "18    0.000420\n",
              "24    0.000620\n",
              "27    0.000684\n",
              "8     0.000228\n",
              "1     0.000093\n",
              "5     0.000207\n",
              "23    0.000584\n",
              "14    0.000320\n",
              "26    0.000676\n",
              "dtype: float64"
            ]
          },
          "metadata": {
            "tags": []
          },
          "execution_count": 36
        }
      ]
    },
    {
      "cell_type": "code",
      "metadata": {
        "id": "-8qeJB1W00Dz"
      },
      "source": [
        "model = smf.ols(\"YearsExperience~Salary\",data=df).fit()"
      ],
      "execution_count": 37,
      "outputs": []
    },
    {
      "cell_type": "code",
      "metadata": {
        "colab": {
          "base_uri": "https://localhost:8080/",
          "height": 279
        },
        "id": "81IgcrjejiAz",
        "outputId": "5d461780-c59a-4c4e-a913-1791105017f3"
      },
      "source": [
        "sns.regplot(x=\"Salary\", y=\"YearsExperience\", data=df);"
      ],
      "execution_count": 38,
      "outputs": [
        {
          "output_type": "display_data",
          "data": {
            "image/png": "[encoded data removed]",
            "text/plain": [
              "<Figure size 432x288 with 1 Axes>"
            ]
          },
          "metadata": {
            "tags": [],
            "needs_background": "light"
          }
        }
      ]
    },
    {
      "cell_type": "code",
      "metadata": {
        "colab": {
          "base_uri": "https://localhost:8080/"
        },
        "id": "bx_JtFOKj-bs",
        "outputId": "defddd19-9a45-4f34-f93b-6d5be09710ff"
      },
      "source": [
        "model.params"
      ],
      "execution_count": 39,
      "outputs": [
        {
          "output_type": "execute_result",
          "data": {
            "text/plain": [
              "Intercept   -2.383161\n",
              "Salary       0.000101\n",
              "dtype: float64"
            ]
          },
          "metadata": {
            "tags": []
          },
          "execution_count": 39
        }
      ]
    },
    {
      "cell_type": "markdown",
      "metadata": {
        "id": "EljmmclpkCvY"
      },
      "source": [
        "# Predict\n"
      ]
    },
    {
      "cell_type": "code",
      "metadata": {
        "id": "GJQDPmDpkEpE"
      },
      "source": [
        "newdf=pd.Series([40000,60000])"
      ],
      "execution_count": 40,
      "outputs": []
    },
    {
      "cell_type": "code",
      "metadata": {
        "id": "erC2RPPGkg_c"
      },
      "source": [
        "data_pred=pd.DataFrame(newdf,columns=['Salary'])"
      ],
      "execution_count": 41,
      "outputs": []
    },
    {
      "cell_type": "code",
      "metadata": {
        "colab": {
          "base_uri": "https://localhost:8080/"
        },
        "id": "8NaJOtTEkg5F",
        "outputId": "bd36d765-b521-4ed9-f1ce-c8fc8334eae5"
      },
      "source": [
        "model.predict(data_pred)"
      ],
      "execution_count": 42,
      "outputs": [
        {
          "output_type": "execute_result",
          "data": {
            "text/plain": [
              "0    1.667466\n",
              "1    3.692779\n",
              "dtype: float64"
            ]
          },
          "metadata": {
            "tags": []
          },
          "execution_count": 42
        }
      ]
    }
  ]
}